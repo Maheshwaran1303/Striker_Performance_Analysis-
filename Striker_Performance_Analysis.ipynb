{
 "cells": [
  {
   "cell_type": "markdown",
   "id": "c57bdc51",
   "metadata": {},
   "source": [
    "# 1. Data Cleaning"
   ]
  },
  {
   "cell_type": "markdown",
   "id": "0d035c61",
   "metadata": {},
   "source": [
    "## Step a & b: Load Dataset and Necessary Packages"
   ]
  },
  {
   "cell_type": "code",
   "execution_count": null,
   "id": "172c8f0e",
   "metadata": {},
   "outputs": [
    {
     "data": {
      "application/vnd.microsoft.datawrangler.viewer.v0+json": {
       "columns": [
        {
         "name": "index",
         "rawType": "int64",
         "type": "integer"
        },
        {
         "name": "Striker_ID",
         "rawType": "int64",
         "type": "integer"
        },
        {
         "name": "Nationality",
         "rawType": "object",
         "type": "string"
        },
        {
         "name": "Footedness",
         "rawType": "object",
         "type": "string"
        },
        {
         "name": "Marital Status",
         "rawType": "object",
         "type": "string"
        },
        {
         "name": "Goals Scored",
         "rawType": "float64",
         "type": "float"
        },
        {
         "name": "Assists",
         "rawType": "float64",
         "type": "float"
        },
        {
         "name": "Shots on Target",
         "rawType": "float64",
         "type": "float"
        },
        {
         "name": "Shot Accuracy",
         "rawType": "float64",
         "type": "float"
        },
        {
         "name": "Conversion Rate",
         "rawType": "float64",
         "type": "float"
        },
        {
         "name": "Dribbling Success",
         "rawType": "float64",
         "type": "float"
        },
        {
         "name": "Movement off the Ball",
         "rawType": "float64",
         "type": "float"
        },
        {
         "name": "Hold-up Play",
         "rawType": "float64",
         "type": "float"
        },
        {
         "name": "Aerial Duels Won",
         "rawType": "float64",
         "type": "float"
        },
        {
         "name": "Defensive Contribution",
         "rawType": "float64",
         "type": "float"
        },
        {
         "name": "Big Game Performance",
         "rawType": "float64",
         "type": "float"
        },
        {
         "name": "Consistency",
         "rawType": "float64",
         "type": "float"
        },
        {
         "name": "Penalty Success Rate",
         "rawType": "float64",
         "type": "float"
        },
        {
         "name": "Impact on Team Performance",
         "rawType": "float64",
         "type": "float"
        },
        {
         "name": "Off-field Conduct",
         "rawType": "float64",
         "type": "float"
        }
       ],
       "conversionMethod": "pd.DataFrame",
       "ref": "3342caf4-0369-440e-bdc2-3f7a1a79a70f",
       "rows": [
        [
         "0",
         "1",
         "Spain",
         "Left-footed",
         "No",
         "17.48357076505616",
         "10.77853264259493",
         "34.79548805610202",
         "0.6778361076166638",
         "0.1662410862512809",
         "0.757061299721953",
         "50.92192442122609",
         "71.80640912452145",
         "15.68253197517533",
         "30.41221543813225",
         "6.152480635954594",
         "0.8203142542220004",
         "0.9227273822081263",
         "8.570370164620753",
         "11.45138758562954"
        ],
        [
         "1",
         "2",
         "France",
         "Left-footed",
         "Yes",
         "14.30867849414408",
         "13.72824992141039",
         "31.47243578038938",
         "0.5448814283671466",
         "0.1927740664642241",
         "0.7968184660532861",
         "61.39614989220498",
         "53.72686554048697",
         "19.84398255530458",
         "26.47491310559278",
         "6.093171783232292",
         "0.8033207317899312",
         "0.6789839497019116",
         "3.444638075259598",
         "8.243688928264907"
        ],
        [
         "2",
         "3",
         "Germany",
         "Left-footed",
         "No",
         "18.23844269050346",
         "3.804297278542577",
         "25.41741258944122",
         "0.5181801116577692",
         "0.1603790039500019",
         "0.6668691616816677",
         "65.86394466578356",
         "60.45222708999982",
         "20.09008436022223",
         "24.1641161021242",
         "3.40871365473997",
         "0.7665403660299704",
         "0.8438579290921006",
         "8.42949129977789",
         "9.506834946842186"
        ],
        [
         "3",
         "4",
         "France",
         "Right-footed",
         "No",
         "22.61514928204013",
         "9.688907710071712",
         "20.47144255606098",
         "0.5996625542589048",
         "0.184601923518048",
         "0.6387763265492249",
         "88.8768765734019",
         "60.51197901881086",
         "22.36315172921703",
         "44.12998912137797",
         "6.339819616597126",
         "0.6117982431307563",
         "0.6629973372635571",
         "6.532551884296549",
         "8.199652630199536"
        ],
        [
         "4",
         "5",
         "France",
         "Left-footed",
         "Yes",
         "13.82923312638332",
         "6.048072292634519",
         "29.88756319529513",
         "0.5829815377475072",
         "0.1053192666523107",
         "0.5914849473442201",
         "75.56553124533758",
         "54.98215807188468",
         "13.16570818359587",
         "37.85932302272138",
         "8.46565816364349",
         "0.7016382860444563",
         "0.9065376272259603",
         "8.414915421728763",
         "6.665333237567039"
        ]
       ],
       "shape": {
        "columns": 19,
        "rows": 5
       }
      },
      "text/html": [
       "<div>\n",
       "<style scoped>\n",
       "    .dataframe tbody tr th:only-of-type {\n",
       "        vertical-align: middle;\n",
       "    }\n",
       "\n",
       "    .dataframe tbody tr th {\n",
       "        vertical-align: top;\n",
       "    }\n",
       "\n",
       "    .dataframe thead th {\n",
       "        text-align: right;\n",
       "    }\n",
       "</style>\n",
       "<table border=\"1\" class=\"dataframe\">\n",
       "  <thead>\n",
       "    <tr style=\"text-align: right;\">\n",
       "      <th></th>\n",
       "      <th>Striker_ID</th>\n",
       "      <th>Nationality</th>\n",
       "      <th>Footedness</th>\n",
       "      <th>Marital Status</th>\n",
       "      <th>Goals Scored</th>\n",
       "      <th>Assists</th>\n",
       "      <th>Shots on Target</th>\n",
       "      <th>Shot Accuracy</th>\n",
       "      <th>Conversion Rate</th>\n",
       "      <th>Dribbling Success</th>\n",
       "      <th>Movement off the Ball</th>\n",
       "      <th>Hold-up Play</th>\n",
       "      <th>Aerial Duels Won</th>\n",
       "      <th>Defensive Contribution</th>\n",
       "      <th>Big Game Performance</th>\n",
       "      <th>Consistency</th>\n",
       "      <th>Penalty Success Rate</th>\n",
       "      <th>Impact on Team Performance</th>\n",
       "      <th>Off-field Conduct</th>\n",
       "    </tr>\n",
       "  </thead>\n",
       "  <tbody>\n",
       "    <tr>\n",
       "      <th>0</th>\n",
       "      <td>1</td>\n",
       "      <td>Spain</td>\n",
       "      <td>Left-footed</td>\n",
       "      <td>No</td>\n",
       "      <td>17.483571</td>\n",
       "      <td>10.778533</td>\n",
       "      <td>34.795488</td>\n",
       "      <td>0.677836</td>\n",
       "      <td>0.166241</td>\n",
       "      <td>0.757061</td>\n",
       "      <td>50.921924</td>\n",
       "      <td>71.806409</td>\n",
       "      <td>15.682532</td>\n",
       "      <td>30.412215</td>\n",
       "      <td>6.152481</td>\n",
       "      <td>0.820314</td>\n",
       "      <td>0.922727</td>\n",
       "      <td>8.570370</td>\n",
       "      <td>11.451388</td>\n",
       "    </tr>\n",
       "    <tr>\n",
       "      <th>1</th>\n",
       "      <td>2</td>\n",
       "      <td>France</td>\n",
       "      <td>Left-footed</td>\n",
       "      <td>Yes</td>\n",
       "      <td>14.308678</td>\n",
       "      <td>13.728250</td>\n",
       "      <td>31.472436</td>\n",
       "      <td>0.544881</td>\n",
       "      <td>0.192774</td>\n",
       "      <td>0.796818</td>\n",
       "      <td>61.396150</td>\n",
       "      <td>53.726866</td>\n",
       "      <td>19.843983</td>\n",
       "      <td>26.474913</td>\n",
       "      <td>6.093172</td>\n",
       "      <td>0.803321</td>\n",
       "      <td>0.678984</td>\n",
       "      <td>3.444638</td>\n",
       "      <td>8.243689</td>\n",
       "    </tr>\n",
       "    <tr>\n",
       "      <th>2</th>\n",
       "      <td>3</td>\n",
       "      <td>Germany</td>\n",
       "      <td>Left-footed</td>\n",
       "      <td>No</td>\n",
       "      <td>18.238443</td>\n",
       "      <td>3.804297</td>\n",
       "      <td>25.417413</td>\n",
       "      <td>0.518180</td>\n",
       "      <td>0.160379</td>\n",
       "      <td>0.666869</td>\n",
       "      <td>65.863945</td>\n",
       "      <td>60.452227</td>\n",
       "      <td>20.090084</td>\n",
       "      <td>24.164116</td>\n",
       "      <td>3.408714</td>\n",
       "      <td>0.766540</td>\n",
       "      <td>0.843858</td>\n",
       "      <td>8.429491</td>\n",
       "      <td>9.506835</td>\n",
       "    </tr>\n",
       "    <tr>\n",
       "      <th>3</th>\n",
       "      <td>4</td>\n",
       "      <td>France</td>\n",
       "      <td>Right-footed</td>\n",
       "      <td>No</td>\n",
       "      <td>22.615149</td>\n",
       "      <td>9.688908</td>\n",
       "      <td>20.471443</td>\n",
       "      <td>0.599663</td>\n",
       "      <td>0.184602</td>\n",
       "      <td>0.638776</td>\n",
       "      <td>88.876877</td>\n",
       "      <td>60.511979</td>\n",
       "      <td>22.363152</td>\n",
       "      <td>44.129989</td>\n",
       "      <td>6.339820</td>\n",
       "      <td>0.611798</td>\n",
       "      <td>0.662997</td>\n",
       "      <td>6.532552</td>\n",
       "      <td>8.199653</td>\n",
       "    </tr>\n",
       "    <tr>\n",
       "      <th>4</th>\n",
       "      <td>5</td>\n",
       "      <td>France</td>\n",
       "      <td>Left-footed</td>\n",
       "      <td>Yes</td>\n",
       "      <td>13.829233</td>\n",
       "      <td>6.048072</td>\n",
       "      <td>29.887563</td>\n",
       "      <td>0.582982</td>\n",
       "      <td>0.105319</td>\n",
       "      <td>0.591485</td>\n",
       "      <td>75.565531</td>\n",
       "      <td>54.982158</td>\n",
       "      <td>13.165708</td>\n",
       "      <td>37.859323</td>\n",
       "      <td>8.465658</td>\n",
       "      <td>0.701638</td>\n",
       "      <td>0.906538</td>\n",
       "      <td>8.414915</td>\n",
       "      <td>6.665333</td>\n",
       "    </tr>\n",
       "  </tbody>\n",
       "</table>\n",
       "</div>"
      ],
      "text/plain": [
       "   Striker_ID Nationality    Footedness Marital Status  Goals Scored  \\\n",
       "0           1       Spain   Left-footed             No     17.483571   \n",
       "1           2      France   Left-footed            Yes     14.308678   \n",
       "2           3     Germany   Left-footed             No     18.238443   \n",
       "3           4      France  Right-footed             No     22.615149   \n",
       "4           5      France   Left-footed            Yes     13.829233   \n",
       "\n",
       "     Assists  Shots on Target  Shot Accuracy  Conversion Rate  \\\n",
       "0  10.778533        34.795488       0.677836         0.166241   \n",
       "1  13.728250        31.472436       0.544881         0.192774   \n",
       "2   3.804297        25.417413       0.518180         0.160379   \n",
       "3   9.688908        20.471443       0.599663         0.184602   \n",
       "4   6.048072        29.887563       0.582982         0.105319   \n",
       "\n",
       "   Dribbling Success  Movement off the Ball  Hold-up Play  Aerial Duels Won  \\\n",
       "0           0.757061              50.921924     71.806409         15.682532   \n",
       "1           0.796818              61.396150     53.726866         19.843983   \n",
       "2           0.666869              65.863945     60.452227         20.090084   \n",
       "3           0.638776              88.876877     60.511979         22.363152   \n",
       "4           0.591485              75.565531     54.982158         13.165708   \n",
       "\n",
       "   Defensive Contribution  Big Game Performance  Consistency  \\\n",
       "0               30.412215              6.152481     0.820314   \n",
       "1               26.474913              6.093172     0.803321   \n",
       "2               24.164116              3.408714     0.766540   \n",
       "3               44.129989              6.339820     0.611798   \n",
       "4               37.859323              8.465658     0.701638   \n",
       "\n",
       "   Penalty Success Rate  Impact on Team Performance  Off-field Conduct  \n",
       "0              0.922727                    8.570370          11.451388  \n",
       "1              0.678984                    3.444638           8.243689  \n",
       "2              0.843858                    8.429491           9.506835  \n",
       "3              0.662997                    6.532552           8.199653  \n",
       "4              0.906538                    8.414915           6.665333  "
      ]
     },
     "execution_count": 30,
     "metadata": {},
     "output_type": "execute_result"
    }
   ],
   "source": [
    "import pandas as pd\n",
    "import numpy as np\n",
    "from sklearn.impute import SimpleImputer\n",
    "\n",
    "# Load dataset\n",
    "df = pd.read_excel(\"Strikers_performance.xlsx\")\n",
    "\n",
    "# Preview the data\n",
    "df.head()\n"
   ]
  },
  {
   "cell_type": "markdown",
   "id": "fd549929",
   "metadata": {},
   "source": [
    "## Step c: Check for Missing Values and Impute Them"
   ]
  },
  {
   "cell_type": "code",
   "execution_count": null,
   "id": "0016f446",
   "metadata": {},
   "outputs": [
    {
     "name": "stdout",
     "output_type": "stream",
     "text": [
      "Missing Values:\n",
      " Striker_ID                    0\n",
      "Nationality                   0\n",
      "Footedness                    0\n",
      "Marital Status                0\n",
      "Goals Scored                  0\n",
      "Assists                       0\n",
      "Shots on Target               0\n",
      "Shot Accuracy                 0\n",
      "Conversion Rate               0\n",
      "Dribbling Success             0\n",
      "Movement off the Ball         6\n",
      "Hold-up Play                  0\n",
      "Aerial Duels Won              0\n",
      "Defensive Contribution        0\n",
      "Big Game Performance          2\n",
      "Consistency                   0\n",
      "Penalty Success Rate          5\n",
      "Impact on Team Performance    0\n",
      "Off-field Conduct             0\n",
      "dtype: int64\n",
      "\n",
      "Missing Values after Imputation:\n",
      " Striker_ID                    0\n",
      "Nationality                   0\n",
      "Footedness                    0\n",
      "Marital Status                0\n",
      "Goals Scored                  0\n",
      "Assists                       0\n",
      "Shots on Target               0\n",
      "Shot Accuracy                 0\n",
      "Conversion Rate               0\n",
      "Dribbling Success             0\n",
      "Movement off the Ball         0\n",
      "Hold-up Play                  0\n",
      "Aerial Duels Won              0\n",
      "Defensive Contribution        0\n",
      "Big Game Performance          0\n",
      "Consistency                   0\n",
      "Penalty Success Rate          0\n",
      "Impact on Team Performance    0\n",
      "Off-field Conduct             0\n",
      "dtype: int64\n"
     ]
    }
   ],
   "source": [
    "# Check missing values\n",
    "print(\"Missing Values:\\n\", df.isnull().sum())\n",
    "\n",
    "# Separate numeric and categorical columns\n",
    "numeric_cols = df.select_dtypes(include=['int64', 'float64']).columns\n",
    "categorical_cols = df.select_dtypes(include=['object']).columns\n",
    "\n",
    "# Impute numeric columns with median\n",
    "imputer_median = SimpleImputer(strategy='median')\n",
    "df[numeric_cols] = imputer_median.fit_transform(df[numeric_cols])\n",
    "\n",
    "# Impute categorical columns with most frequent\n",
    "imputer_freq = SimpleImputer(strategy='most_frequent')\n",
    "df[categorical_cols] = imputer_freq.fit_transform(df[categorical_cols])\n",
    "\n",
    "# Confirm no missing values\n",
    "print(\"\\nMissing Values after Imputation:\\n\", df.isnull().sum())\n"
   ]
  },
  {
   "cell_type": "markdown",
   "id": "9ebc2f00",
   "metadata": {},
   "source": [
    "## d: Check and Assign Integer Types for Specific Columns"
   ]
  },
  {
   "cell_type": "code",
   "execution_count": null,
   "id": "6c77030b",
   "metadata": {},
   "outputs": [
    {
     "data": {
      "text/plain": [
       "Goals Scored                  int64\n",
       "Assists                       int64\n",
       "Shots on Target               int64\n",
       "Movement off the Ball         int64\n",
       "Hold-up Play                  int64\n",
       "Aerial Duels Won              int64\n",
       "Defensive Contribution        int64\n",
       "Big Game Performance          int64\n",
       "Impact on Team Performance    int64\n",
       "Off-field Conduct             int64\n",
       "dtype: object"
      ]
     },
     "execution_count": 32,
     "metadata": {},
     "output_type": "execute_result"
    }
   ],
   "source": [
    "# Convert specific columns to integer type\n",
    "int_columns = [\n",
    "    'Goals Scored', 'Assists', 'Shots on Target', \n",
    "    'Movement off the Ball', 'Hold-up Play', 'Aerial Duels Won', \n",
    "    'Defensive Contribution', 'Big Game Performance', \n",
    "    'Impact on Team Performance', 'Off-field Conduct'\n",
    "]\n",
    "\n",
    "# Convert each column\n",
    "for col in int_columns:\n",
    "    df[col] = df[col].astype(int)\n",
    "\n",
    "# Check data types\n",
    "df[int_columns].dtypes\n"
   ]
  },
  {
   "cell_type": "markdown",
   "id": "3c8554b4",
   "metadata": {},
   "source": [
    "# 2. Descriptive Analysis"
   ]
  },
  {
   "cell_type": "markdown",
   "id": "51ef488f",
   "metadata": {},
   "source": [
    "## 2a: Descriptive Analysis (Rounded to 2 Decimal Points)"
   ]
  },
  {
   "cell_type": "code",
   "execution_count": null,
   "id": "3d2929fa",
   "metadata": {},
   "outputs": [
    {
     "data": {
      "application/vnd.microsoft.datawrangler.viewer.v0+json": {
       "columns": [
        {
         "name": "index",
         "rawType": "object",
         "type": "string"
        },
        {
         "name": "Striker_ID",
         "rawType": "float64",
         "type": "float"
        },
        {
         "name": "Goals Scored",
         "rawType": "float64",
         "type": "float"
        },
        {
         "name": "Assists",
         "rawType": "float64",
         "type": "float"
        },
        {
         "name": "Shots on Target",
         "rawType": "float64",
         "type": "float"
        },
        {
         "name": "Shot Accuracy",
         "rawType": "float64",
         "type": "float"
        },
        {
         "name": "Conversion Rate",
         "rawType": "float64",
         "type": "float"
        },
        {
         "name": "Dribbling Success",
         "rawType": "float64",
         "type": "float"
        },
        {
         "name": "Movement off the Ball",
         "rawType": "float64",
         "type": "float"
        },
        {
         "name": "Hold-up Play",
         "rawType": "float64",
         "type": "float"
        },
        {
         "name": "Aerial Duels Won",
         "rawType": "float64",
         "type": "float"
        },
        {
         "name": "Defensive Contribution",
         "rawType": "float64",
         "type": "float"
        },
        {
         "name": "Big Game Performance",
         "rawType": "float64",
         "type": "float"
        },
        {
         "name": "Consistency",
         "rawType": "float64",
         "type": "float"
        },
        {
         "name": "Penalty Success Rate",
         "rawType": "float64",
         "type": "float"
        },
        {
         "name": "Impact on Team Performance",
         "rawType": "float64",
         "type": "float"
        },
        {
         "name": "Off-field Conduct",
         "rawType": "float64",
         "type": "float"
        }
       ],
       "conversionMethod": "pd.DataFrame",
       "ref": "ba6333a7-2a62-40de-9d3b-35f0d1620f68",
       "rows": [
        [
         "count",
         "500.0",
         "500.0",
         "500.0",
         "500.0",
         "500.0",
         "500.0",
         "500.0",
         "500.0",
         "500.0",
         "500.0",
         "500.0",
         "500.0",
         "500.0",
         "500.0",
         "500.0",
         "500.0"
        ],
        [
         "mean",
         "250.5",
         "14.52",
         "7.6",
         "25.26",
         "0.6",
         "0.2",
         "0.7",
         "69.28",
         "59.33",
         "19.04",
         "39.47",
         "6.43",
         "0.74",
         "0.8",
         "6.52",
         "7.57"
        ],
        [
         "std",
         "144.48",
         "4.91",
         "2.96",
         "7.08",
         "0.1",
         "0.05",
         "0.1",
         "10.33",
         "10.15",
         "4.95",
         "9.9",
         "1.98",
         "0.1",
         "0.1",
         "2.11",
         "2.09"
        ],
        [
         "min",
         "1.0",
         "0.0",
         "0.0",
         "4.0",
         "0.31",
         "0.05",
         "0.4",
         "40.0",
         "35.0",
         "4.0",
         "8.0",
         "2.0",
         "0.46",
         "0.53",
         "0.0",
         "0.0"
        ],
        [
         "25%",
         "125.75",
         "11.0",
         "6.0",
         "20.0",
         "0.54",
         "0.17",
         "0.64",
         "62.0",
         "52.0",
         "16.0",
         "33.0",
         "5.0",
         "0.68",
         "0.72",
         "5.0",
         "6.0"
        ],
        [
         "50%",
         "250.5",
         "15.0",
         "8.0",
         "25.0",
         "0.6",
         "0.2",
         "0.7",
         "69.0",
         "60.0",
         "19.0",
         "39.5",
         "6.0",
         "0.75",
         "0.8",
         "6.5",
         "8.0"
        ],
        [
         "75%",
         "375.25",
         "18.0",
         "9.0",
         "30.0",
         "0.67",
         "0.23",
         "0.76",
         "76.0",
         "66.0",
         "22.0",
         "46.0",
         "8.0",
         "0.81",
         "0.87",
         "8.0",
         "9.0"
        ],
        [
         "max",
         "500.0",
         "34.0",
         "15.0",
         "43.0",
         "0.92",
         "0.36",
         "1.0",
         "98.0",
         "92.0",
         "34.0",
         "71.0",
         "12.0",
         "1.0",
         "1.0",
         "13.0",
         "13.0"
        ]
       ],
       "shape": {
        "columns": 16,
        "rows": 8
       }
      },
      "text/html": [
       "<div>\n",
       "<style scoped>\n",
       "    .dataframe tbody tr th:only-of-type {\n",
       "        vertical-align: middle;\n",
       "    }\n",
       "\n",
       "    .dataframe tbody tr th {\n",
       "        vertical-align: top;\n",
       "    }\n",
       "\n",
       "    .dataframe thead th {\n",
       "        text-align: right;\n",
       "    }\n",
       "</style>\n",
       "<table border=\"1\" class=\"dataframe\">\n",
       "  <thead>\n",
       "    <tr style=\"text-align: right;\">\n",
       "      <th></th>\n",
       "      <th>Striker_ID</th>\n",
       "      <th>Goals Scored</th>\n",
       "      <th>Assists</th>\n",
       "      <th>Shots on Target</th>\n",
       "      <th>Shot Accuracy</th>\n",
       "      <th>Conversion Rate</th>\n",
       "      <th>Dribbling Success</th>\n",
       "      <th>Movement off the Ball</th>\n",
       "      <th>Hold-up Play</th>\n",
       "      <th>Aerial Duels Won</th>\n",
       "      <th>Defensive Contribution</th>\n",
       "      <th>Big Game Performance</th>\n",
       "      <th>Consistency</th>\n",
       "      <th>Penalty Success Rate</th>\n",
       "      <th>Impact on Team Performance</th>\n",
       "      <th>Off-field Conduct</th>\n",
       "    </tr>\n",
       "  </thead>\n",
       "  <tbody>\n",
       "    <tr>\n",
       "      <th>count</th>\n",
       "      <td>500.00</td>\n",
       "      <td>500.00</td>\n",
       "      <td>500.00</td>\n",
       "      <td>500.00</td>\n",
       "      <td>500.00</td>\n",
       "      <td>500.00</td>\n",
       "      <td>500.00</td>\n",
       "      <td>500.00</td>\n",
       "      <td>500.00</td>\n",
       "      <td>500.00</td>\n",
       "      <td>500.00</td>\n",
       "      <td>500.00</td>\n",
       "      <td>500.00</td>\n",
       "      <td>500.00</td>\n",
       "      <td>500.00</td>\n",
       "      <td>500.00</td>\n",
       "    </tr>\n",
       "    <tr>\n",
       "      <th>mean</th>\n",
       "      <td>250.50</td>\n",
       "      <td>14.52</td>\n",
       "      <td>7.60</td>\n",
       "      <td>25.26</td>\n",
       "      <td>0.60</td>\n",
       "      <td>0.20</td>\n",
       "      <td>0.70</td>\n",
       "      <td>69.28</td>\n",
       "      <td>59.33</td>\n",
       "      <td>19.04</td>\n",
       "      <td>39.47</td>\n",
       "      <td>6.43</td>\n",
       "      <td>0.74</td>\n",
       "      <td>0.80</td>\n",
       "      <td>6.52</td>\n",
       "      <td>7.57</td>\n",
       "    </tr>\n",
       "    <tr>\n",
       "      <th>std</th>\n",
       "      <td>144.48</td>\n",
       "      <td>4.91</td>\n",
       "      <td>2.96</td>\n",
       "      <td>7.08</td>\n",
       "      <td>0.10</td>\n",
       "      <td>0.05</td>\n",
       "      <td>0.10</td>\n",
       "      <td>10.33</td>\n",
       "      <td>10.15</td>\n",
       "      <td>4.95</td>\n",
       "      <td>9.90</td>\n",
       "      <td>1.98</td>\n",
       "      <td>0.10</td>\n",
       "      <td>0.10</td>\n",
       "      <td>2.11</td>\n",
       "      <td>2.09</td>\n",
       "    </tr>\n",
       "    <tr>\n",
       "      <th>min</th>\n",
       "      <td>1.00</td>\n",
       "      <td>0.00</td>\n",
       "      <td>0.00</td>\n",
       "      <td>4.00</td>\n",
       "      <td>0.31</td>\n",
       "      <td>0.05</td>\n",
       "      <td>0.40</td>\n",
       "      <td>40.00</td>\n",
       "      <td>35.00</td>\n",
       "      <td>4.00</td>\n",
       "      <td>8.00</td>\n",
       "      <td>2.00</td>\n",
       "      <td>0.46</td>\n",
       "      <td>0.53</td>\n",
       "      <td>0.00</td>\n",
       "      <td>0.00</td>\n",
       "    </tr>\n",
       "    <tr>\n",
       "      <th>25%</th>\n",
       "      <td>125.75</td>\n",
       "      <td>11.00</td>\n",
       "      <td>6.00</td>\n",
       "      <td>20.00</td>\n",
       "      <td>0.54</td>\n",
       "      <td>0.17</td>\n",
       "      <td>0.64</td>\n",
       "      <td>62.00</td>\n",
       "      <td>52.00</td>\n",
       "      <td>16.00</td>\n",
       "      <td>33.00</td>\n",
       "      <td>5.00</td>\n",
       "      <td>0.68</td>\n",
       "      <td>0.72</td>\n",
       "      <td>5.00</td>\n",
       "      <td>6.00</td>\n",
       "    </tr>\n",
       "    <tr>\n",
       "      <th>50%</th>\n",
       "      <td>250.50</td>\n",
       "      <td>15.00</td>\n",
       "      <td>8.00</td>\n",
       "      <td>25.00</td>\n",
       "      <td>0.60</td>\n",
       "      <td>0.20</td>\n",
       "      <td>0.70</td>\n",
       "      <td>69.00</td>\n",
       "      <td>60.00</td>\n",
       "      <td>19.00</td>\n",
       "      <td>39.50</td>\n",
       "      <td>6.00</td>\n",
       "      <td>0.75</td>\n",
       "      <td>0.80</td>\n",
       "      <td>6.50</td>\n",
       "      <td>8.00</td>\n",
       "    </tr>\n",
       "    <tr>\n",
       "      <th>75%</th>\n",
       "      <td>375.25</td>\n",
       "      <td>18.00</td>\n",
       "      <td>9.00</td>\n",
       "      <td>30.00</td>\n",
       "      <td>0.67</td>\n",
       "      <td>0.23</td>\n",
       "      <td>0.76</td>\n",
       "      <td>76.00</td>\n",
       "      <td>66.00</td>\n",
       "      <td>22.00</td>\n",
       "      <td>46.00</td>\n",
       "      <td>8.00</td>\n",
       "      <td>0.81</td>\n",
       "      <td>0.87</td>\n",
       "      <td>8.00</td>\n",
       "      <td>9.00</td>\n",
       "    </tr>\n",
       "    <tr>\n",
       "      <th>max</th>\n",
       "      <td>500.00</td>\n",
       "      <td>34.00</td>\n",
       "      <td>15.00</td>\n",
       "      <td>43.00</td>\n",
       "      <td>0.92</td>\n",
       "      <td>0.36</td>\n",
       "      <td>1.00</td>\n",
       "      <td>98.00</td>\n",
       "      <td>92.00</td>\n",
       "      <td>34.00</td>\n",
       "      <td>71.00</td>\n",
       "      <td>12.00</td>\n",
       "      <td>1.00</td>\n",
       "      <td>1.00</td>\n",
       "      <td>13.00</td>\n",
       "      <td>13.00</td>\n",
       "    </tr>\n",
       "  </tbody>\n",
       "</table>\n",
       "</div>"
      ],
      "text/plain": [
       "       Striker_ID  Goals Scored  Assists  Shots on Target  Shot Accuracy  \\\n",
       "count      500.00        500.00   500.00           500.00         500.00   \n",
       "mean       250.50         14.52     7.60            25.26           0.60   \n",
       "std        144.48          4.91     2.96             7.08           0.10   \n",
       "min          1.00          0.00     0.00             4.00           0.31   \n",
       "25%        125.75         11.00     6.00            20.00           0.54   \n",
       "50%        250.50         15.00     8.00            25.00           0.60   \n",
       "75%        375.25         18.00     9.00            30.00           0.67   \n",
       "max        500.00         34.00    15.00            43.00           0.92   \n",
       "\n",
       "       Conversion Rate  Dribbling Success  Movement off the Ball  \\\n",
       "count           500.00             500.00                 500.00   \n",
       "mean              0.20               0.70                  69.28   \n",
       "std               0.05               0.10                  10.33   \n",
       "min               0.05               0.40                  40.00   \n",
       "25%               0.17               0.64                  62.00   \n",
       "50%               0.20               0.70                  69.00   \n",
       "75%               0.23               0.76                  76.00   \n",
       "max               0.36               1.00                  98.00   \n",
       "\n",
       "       Hold-up Play  Aerial Duels Won  Defensive Contribution  \\\n",
       "count        500.00            500.00                  500.00   \n",
       "mean          59.33             19.04                   39.47   \n",
       "std           10.15              4.95                    9.90   \n",
       "min           35.00              4.00                    8.00   \n",
       "25%           52.00             16.00                   33.00   \n",
       "50%           60.00             19.00                   39.50   \n",
       "75%           66.00             22.00                   46.00   \n",
       "max           92.00             34.00                   71.00   \n",
       "\n",
       "       Big Game Performance  Consistency  Penalty Success Rate  \\\n",
       "count                500.00       500.00                500.00   \n",
       "mean                   6.43         0.74                  0.80   \n",
       "std                    1.98         0.10                  0.10   \n",
       "min                    2.00         0.46                  0.53   \n",
       "25%                    5.00         0.68                  0.72   \n",
       "50%                    6.00         0.75                  0.80   \n",
       "75%                    8.00         0.81                  0.87   \n",
       "max                   12.00         1.00                  1.00   \n",
       "\n",
       "       Impact on Team Performance  Off-field Conduct  \n",
       "count                      500.00             500.00  \n",
       "mean                         6.52               7.57  \n",
       "std                          2.11               2.09  \n",
       "min                          0.00               0.00  \n",
       "25%                          5.00               6.00  \n",
       "50%                          6.50               8.00  \n",
       "75%                          8.00               9.00  \n",
       "max                         13.00              13.00  "
      ]
     },
     "execution_count": 33,
     "metadata": {},
     "output_type": "execute_result"
    }
   ],
   "source": [
    "# Perform descriptive statistics and round to 2 decimal places\n",
    "desc_stats = df.describe().round(2)\n",
    "\n",
    "# Display the results\n",
    "desc_stats\n"
   ]
  },
  {
   "cell_type": "markdown",
   "id": "95cd2a55",
   "metadata": {},
   "source": [
    "# 3. Data Visualization"
   ]
  },
  {
   "cell_type": "markdown",
   "id": "4ae1cf63",
   "metadata": {},
   "source": [
    "## 3a: Percentage Analysis & Pie Chart for Footedness"
   ]
  },
  {
   "cell_type": "code",
   "execution_count": null,
   "id": "37f39f7c",
   "metadata": {},
   "outputs": [
    {
     "data": {
      "image/png": "[encoded data removed]",
      "text/plain": [
       "<Figure size 600x600 with 1 Axes>"
      ]
     },
     "metadata": {},
     "output_type": "display_data"
    }
   ],
   "source": [
    "import matplotlib.pyplot as plt\n",
    "\n",
    "# Percentage analysis\n",
    "footedness_counts = df['Footedness'].value_counts(normalize=True) * 100\n",
    "footedness_counts = footedness_counts.round(2)\n",
    "\n",
    "# Pie chart\n",
    "plt.figure(figsize=(6, 6))\n",
    "plt.pie(footedness_counts, labels=footedness_counts.index, autopct='%1.1f%%', startangle=140)\n",
    "plt.title('Percentage of Footedness among Strikers')\n",
    "plt.show()\n"
   ]
  },
  {
   "cell_type": "markdown",
   "id": "cd32cf31",
   "metadata": {},
   "source": [
    "## 3b: Countplot for Footedness across Nationalities"
   ]
  },
  {
   "cell_type": "code",
   "execution_count": null,
   "id": "5ce6739e",
   "metadata": {},
   "outputs": [
    {
     "data": {
      "image/png": "[encoded data removed]",
      "text/plain": [
       "<Figure size 1200x600 with 1 Axes>"
      ]
     },
     "metadata": {},
     "output_type": "display_data"
    }
   ],
   "source": [
    "import seaborn as sns\n",
    "plt.figure(figsize=(12, 6))\n",
    "sns.countplot(data=df, x='Nationality', hue='Footedness', palette='Set2')\n",
    "plt.title('Footedness Distribution across Nationalities')\n",
    "plt.xticks(rotation=45)\n",
    "plt.tight_layout()\n",
    "plt.show()\n"
   ]
  },
  {
   "cell_type": "markdown",
   "id": "2182e336",
   "metadata": {},
   "source": [
    "# 4. Statistical Analysis"
   ]
  },
  {
   "cell_type": "markdown",
   "id": "ae2c732d",
   "metadata": {},
   "source": [
    "## 4a. Nationality with Highest Average Goals Scored"
   ]
  },
  {
   "cell_type": "code",
   "execution_count": 36,
   "id": "99bdd751",
   "metadata": {},
   "outputs": [
    {
     "name": "stdout",
     "output_type": "stream",
     "text": [
      "Average Goals by Nationality:\n",
      " Nationality\n",
      "Brazil     15.32\n",
      "Spain      14.69\n",
      "France     14.41\n",
      "Germany    14.35\n",
      "England    13.90\n",
      "Name: Goals Scored, dtype: float64\n",
      "\n",
      "Nationality with highest average goals scored: Brazil\n"
     ]
    }
   ],
   "source": [
    "avg_goals_by_nation = df.groupby('Nationality')['Goals Scored'].mean().sort_values(ascending=False).round(2)\n",
    "print(\"Average Goals by Nationality:\\n\", avg_goals_by_nation)\n",
    "print(\"\\nNationality with highest average goals scored:\", avg_goals_by_nation.idxmax())\n"
   ]
  },
  {
   "cell_type": "markdown",
   "id": "2cde9e25",
   "metadata": {},
   "source": [
    "## 4b. Average Conversion Rate by Footedness"
   ]
  },
  {
   "cell_type": "code",
   "execution_count": 37,
   "id": "952f0795",
   "metadata": {},
   "outputs": [
    {
     "name": "stdout",
     "output_type": "stream",
     "text": [
      "Average Conversion Rate by Footedness:\n",
      " Footedness\n",
      "Left-footed     0.2\n",
      "Right-footed    0.2\n",
      "Name: Conversion Rate, dtype: float64\n"
     ]
    }
   ],
   "source": [
    "avg_conversion_by_foot = df.groupby('Footedness')['Conversion Rate'].mean().round(2)\n",
    "print(\"Average Conversion Rate by Footedness:\\n\", avg_conversion_by_foot)\n"
   ]
  },
  {
   "cell_type": "markdown",
   "id": "9d30d9ed",
   "metadata": {},
   "source": [
    "## 4c. Significant Difference in Consistencys Among Nationalities"
   ]
  },
  {
   "cell_type": "markdown",
   "id": "ec42e718",
   "metadata": {},
   "source": [
    "### Step 1: Check Assumptions\n",
    "#### Normality (Shapiro-Wilk Test)\n",
    "\n",
    "#### Homogeneity of Variance (Levene's Test)"
   ]
  },
  {
   "cell_type": "code",
   "execution_count": 38,
   "id": "f8782201",
   "metadata": {},
   "outputs": [
    {
     "name": "stdout",
     "output_type": "stream",
     "text": [
      "Group 1 Shapiro-Wilk p-value: 0.7303\n",
      "Group 2 Shapiro-Wilk p-value: 0.9730\n",
      "Group 3 Shapiro-Wilk p-value: 0.4209\n",
      "Group 4 Shapiro-Wilk p-value: 0.9636\n",
      "Group 5 Shapiro-Wilk p-value: 0.6273\n",
      "Levene’s Test p-value: 0.8084\n"
     ]
    }
   ],
   "source": [
    "from scipy.stats import shapiro, levene, f_oneway, kruskal\n",
    "\n",
    "# Sample groups\n",
    "groups = [group['Consistency'].dropna() for name, group in df.groupby('Nationality') if len(group) >= 3]\n",
    "\n",
    "# Normality\n",
    "for i, group in enumerate(groups):\n",
    "    stat, p = shapiro(group)\n",
    "    print(f'Group {i+1} Shapiro-Wilk p-value: {p:.4f}')\n",
    "\n",
    "# Homogeneity\n",
    "stat, p = levene(*groups)\n",
    "print(f'Levene’s Test p-value: {p:.4f}')\n"
   ]
  },
  {
   "cell_type": "markdown",
   "id": "f1cc54de",
   "metadata": {},
   "source": [
    "### Step 2: Appropriate Test\n",
    "#### If assumptions met: ANOVA\n",
    "#### If not: Kruskal-Wallis"
   ]
  },
  {
   "cell_type": "code",
   "execution_count": 39,
   "id": "24fe9e3c",
   "metadata": {},
   "outputs": [
    {
     "name": "stdout",
     "output_type": "stream",
     "text": [
      "ANOVA p-value: 0.1928\n",
      "Kruskal-Wallis p-value: 0.1366\n"
     ]
    }
   ],
   "source": [
    "# If normal & homoscedastic:\n",
    "stat, p = f_oneway(*groups)\n",
    "print(f'ANOVA p-value: {p:.4f}')\n",
    "\n",
    "# If not normal or not equal variance:\n",
    "stat, p = kruskal(*groups)\n",
    "print(f'Kruskal-Wallis p-value: {p:.4f}')\n"
   ]
  },
  {
   "cell_type": "markdown",
   "id": "7ab8e3cb",
   "metadata": {},
   "source": [
    "## 4d. Correlation between Hold-up Play and Consistency"
   ]
  },
  {
   "cell_type": "markdown",
   "id": "8fbb78b9",
   "metadata": {},
   "source": [
    "### Step 1: Assumptions"
   ]
  },
  {
   "cell_type": "code",
   "execution_count": 40,
   "id": "04f41f40",
   "metadata": {},
   "outputs": [
    {
     "name": "stdout",
     "output_type": "stream",
     "text": [
      "Hold-up Play Normal: True\n",
      "Consistency Rate Normal: True\n"
     ]
    }
   ],
   "source": [
    "# Shapiro tests\n",
    "shapiro_hold = shapiro(df['Hold-up Play'])\n",
    "shapiro_consist = shapiro(df['Consistency'])\n",
    "print(\"Hold-up Play Normal:\", shapiro_hold.pvalue > 0.05)\n",
    "print(\"Consistency Rate Normal:\", shapiro_consist.pvalue > 0.05)\n"
   ]
  },
  {
   "cell_type": "markdown",
   "id": "208ba057",
   "metadata": {},
   "source": [
    "### Step 2: Correlation Test\n",
    "#### Pearson: if both normal\n",
    "#### Spearman: otherwise"
   ]
  },
  {
   "cell_type": "code",
   "execution_count": 41,
   "id": "70618d7d",
   "metadata": {},
   "outputs": [
    {
     "name": "stdout",
     "output_type": "stream",
     "text": [
      "Pearson Correlation: 0.15, p-value: 0.0010\n"
     ]
    }
   ],
   "source": [
    "from scipy.stats import pearsonr, spearmanr\n",
    "\n",
    "# Choose appropriate test\n",
    "if shapiro_hold.pvalue > 0.05 and shapiro_consist.pvalue > 0.05:\n",
    "    corr, p = pearsonr(df['Hold-up Play'], df['Consistency'])\n",
    "    method = \"Pearson\"\n",
    "else:\n",
    "    corr, p = spearmanr(df['Hold-up Play'], df['Consistency'])\n",
    "    method = \"Spearman\"\n",
    "\n",
    "print(f\"{method} Correlation: {corr:.2f}, p-value: {p:.4f}\")\n"
   ]
  },
  {
   "cell_type": "markdown",
   "id": "8bdf75a8",
   "metadata": {},
   "source": [
    "## 4e. Regression: Does Hold-up Play Predict Consistency Rate?"
   ]
  },
  {
   "cell_type": "code",
   "execution_count": 42,
   "id": "1c4e8f2e",
   "metadata": {},
   "outputs": [
    {
     "name": "stdout",
     "output_type": "stream",
     "text": [
      "                            OLS Regression Results                            \n",
      "==============================================================================\n",
      "Dep. Variable:            Consistency   R-squared:                       0.021\n",
      "Model:                            OLS   Adj. R-squared:                  0.020\n",
      "Method:                 Least Squares   F-statistic:                     10.93\n",
      "Date:                Mon, 12 May 2025   Prob (F-statistic):            0.00101\n",
      "Time:                        13:07:17   Log-Likelihood:                 429.97\n",
      "No. Observations:                 500   AIC:                            -855.9\n",
      "Df Residuals:                     498   BIC:                            -847.5\n",
      "Df Model:                           1                                         \n",
      "Covariance Type:            nonrobust                                         \n",
      "================================================================================\n",
      "                   coef    std err          t      P>|t|      [0.025      0.975]\n",
      "--------------------------------------------------------------------------------\n",
      "const            0.6548      0.027     24.031      0.000       0.601       0.708\n",
      "Hold-up Play     0.0015      0.000      3.306      0.001       0.001       0.002\n",
      "==============================================================================\n",
      "Omnibus:                        1.708   Durbin-Watson:                   2.135\n",
      "Prob(Omnibus):                  0.426   Jarque-Bera (JB):                1.744\n",
      "Skew:                          -0.100   Prob(JB):                        0.418\n",
      "Kurtosis:                       2.791   Cond. No.                         358.\n",
      "==============================================================================\n",
      "\n",
      "Notes:\n",
      "[1] Standard Errors assume that the covariance matrix of the errors is correctly specified.\n"
     ]
    }
   ],
   "source": [
    "import statsmodels.api as sm\n",
    "\n",
    "\n",
    "X = df[['Hold-up Play']]\n",
    "y = df['Consistency']\n",
    "X = sm.add_constant(X)  # Add intercept\n",
    "\n",
    "model = sm.OLS(y, X).fit()\n",
    "print(model.summary())\n"
   ]
  },
  {
   "cell_type": "markdown",
   "id": "9dbbb313",
   "metadata": {},
   "source": [
    "# 5. Feature Engineering"
   ]
  },
  {
   "cell_type": "markdown",
   "id": "5b1e2b56",
   "metadata": {},
   "source": [
    "## 5a. Create a New Feature – Total contribution score\n"
   ]
  },
  {
   "cell_type": "code",
   "execution_count": 43,
   "id": "dc99071a",
   "metadata": {},
   "outputs": [
    {
     "name": "stdout",
     "output_type": "stream",
     "text": [
      "   Total Contribution Score\n",
      "0                    113.58\n",
      "1                    110.60\n",
      "2                     94.43\n",
      "3                    124.25\n",
      "4                    107.29\n"
     ]
    }
   ],
   "source": [
    "df['Total Contribution Score'] = (\n",
    "    df['Goals Scored'] +\n",
    "    df['Assists'] +\n",
    "    df['Shots on Target'] +\n",
    "    df['Dribbling Success'] +\n",
    "    df['Aerial Duels Won'] +\n",
    "    df['Defensive Contribution'] +\n",
    "    df['Big Game Performance'] +\n",
    "    df['Consistency']  # assuming 'Consistency' refers to this column\n",
    ")\n",
    "df['Total Contribution Score'] = df['Total Contribution Score'].round(2)\n",
    "print(df[['Total Contribution Score']].head())\n"
   ]
  },
  {
   "cell_type": "markdown",
   "id": "569378a9",
   "metadata": {},
   "source": [
    "## 5b. Encode Footedness and Marital Status using LabelEncoder"
   ]
  },
  {
   "cell_type": "code",
   "execution_count": 44,
   "id": "f2aa8fca",
   "metadata": {},
   "outputs": [
    {
     "name": "stdout",
     "output_type": "stream",
     "text": [
      "     Footedness  Footedness_encoded Marital Status  Marital Status_encoded\n",
      "0   Left-footed                   0             No                       0\n",
      "1   Left-footed                   0            Yes                       1\n",
      "2   Left-footed                   0             No                       0\n",
      "3  Right-footed                   1             No                       0\n",
      "4   Left-footed                   0            Yes                       1\n"
     ]
    }
   ],
   "source": [
    "from sklearn.preprocessing import LabelEncoder\n",
    "\n",
    "le = LabelEncoder()\n",
    "\n",
    "df['Footedness_encoded'] = le.fit_transform(df['Footedness'])\n",
    "df['Marital Status_encoded'] = le.fit_transform(df['Marital Status'])\n",
    "\n",
    "print(df[['Footedness', 'Footedness_encoded', 'Marital Status', 'Marital Status_encoded']].head())\n"
   ]
  },
  {
   "cell_type": "markdown",
   "id": "ce19cb93",
   "metadata": {},
   "source": [
    "## 5c. Create Dummy Variables for Nationality"
   ]
  },
  {
   "cell_type": "code",
   "execution_count": 45,
   "id": "a82b759a",
   "metadata": {},
   "outputs": [
    {
     "name": "stdout",
     "output_type": "stream",
     "text": [
      "   Nationality_England  Nationality_France  Nationality_Germany  \\\n",
      "0                False               False                False   \n",
      "1                False                True                False   \n",
      "2                False               False                 True   \n",
      "3                False                True                False   \n",
      "4                False                True                False   \n",
      "\n",
      "   Nationality_Spain  \n",
      "0               True  \n",
      "1              False  \n",
      "2              False  \n",
      "3              False  \n",
      "4              False  \n"
     ]
    }
   ],
   "source": [
    "nationality_dummies = pd.get_dummies(df['Nationality'], prefix='Nationality', drop_first=True)\n",
    "df = pd.concat([df, nationality_dummies], axis=1)\n",
    "\n",
    "print(nationality_dummies.head())\n"
   ]
  },
  {
   "cell_type": "markdown",
   "id": "e1d00ef2",
   "metadata": {},
   "source": [
    "# 6. Clustering Analysis:"
   ]
  },
  {
   "cell_type": "markdown",
   "id": "9ce38d81",
   "metadata": {},
   "source": [
    "## 6a. KMeans Clustering"
   ]
  },
  {
   "cell_type": "markdown",
   "id": "8a81f384",
   "metadata": {},
   "source": [
    "### i. Drop Striker_ID from the updated dataset and select features"
   ]
  },
  {
   "cell_type": "code",
   "execution_count": 46,
   "id": "caa5ff1a",
   "metadata": {},
   "outputs": [],
   "source": [
    "from sklearn.cluster import KMeans\n",
    "from sklearn.preprocessing import StandardScaler\n",
    "\n",
    "# Drop Striker_ID and non-numeric columns (if any)\n",
    "X = df.drop(['Striker_ID'], axis=1)\n",
    "\n",
    "# Keep only numeric features\n",
    "X_numeric = X.select_dtypes(include=['int64', 'float64'])\n",
    "\n",
    "# Scale features\n",
    "scaler = StandardScaler()\n",
    "X_scaled = scaler.fit_transform(X_numeric)\n"
   ]
  },
  {
   "cell_type": "markdown",
   "id": "cfbc4642",
   "metadata": {},
   "source": [
    "### ii. Calculate WCSS"
   ]
  },
  {
   "cell_type": "code",
   "execution_count": 47,
   "id": "68bdfd6d",
   "metadata": {},
   "outputs": [],
   "source": [
    "wcss = []\n",
    "for i in range(1, 11):\n",
    "    kmeans = KMeans(n_clusters=i, random_state=42)\n",
    "    kmeans.fit(X_scaled)\n",
    "    wcss.append(kmeans.inertia_)\n"
   ]
  },
  {
   "cell_type": "markdown",
   "id": "d48f8530",
   "metadata": {},
   "source": [
    "### iii. Visualize the Elbow Chart (Expect breakpoint at 2)\n"
   ]
  },
  {
   "cell_type": "code",
   "execution_count": 48,
   "id": "ae05e3d3",
   "metadata": {},
   "outputs": [
    {
     "data": {
      "image/png": "[encoded data removed]",
      "text/plain": [
       "<Figure size 800x500 with 1 Axes>"
      ]
     },
     "metadata": {},
     "output_type": "display_data"
    }
   ],
   "source": [
    "import matplotlib.pyplot as plt\n",
    "\n",
    "plt.figure(figsize=(8, 5))\n",
    "plt.plot(range(1, 11), wcss, marker='o')\n",
    "plt.title('Elbow Method')\n",
    "plt.xlabel('Number of Clusters')\n",
    "plt.ylabel('WCSS')\n",
    "plt.grid(True)\n",
    "plt.axvline(x=2, color='r', linestyle='--', label='Optimal k = 2')\n",
    "plt.legend()\n",
    "plt.show()\n"
   ]
  },
  {
   "cell_type": "markdown",
   "id": "7f208a72",
   "metadata": {},
   "source": [
    "### iv. Build KMeans model with k=2 and add cluster labels"
   ]
  },
  {
   "cell_type": "code",
   "execution_count": 49,
   "id": "c945b2f8",
   "metadata": {},
   "outputs": [],
   "source": [
    "kmeans = KMeans(n_clusters=2, random_state=42)\n",
    "df['Cluster'] = kmeans.fit_predict(X_scaled)\n"
   ]
  },
  {
   "cell_type": "markdown",
   "id": "bf8e8aed",
   "metadata": {},
   "source": [
    "## 6b. Average Total Contribution Score by cluster"
   ]
  },
  {
   "cell_type": "code",
   "execution_count": 50,
   "id": "6509f6cb",
   "metadata": {},
   "outputs": [
    {
     "name": "stdout",
     "output_type": "stream",
     "text": [
      "Cluster\n",
      "0    102.302467\n",
      "1    123.286996\n",
      "Name: Total Contribution Score, dtype: float64\n"
     ]
    }
   ],
   "source": [
    "avg_score_by_cluster = df.groupby('Cluster')['Total Contribution Score'].mean()\n",
    "print(avg_score_by_cluster)\n"
   ]
  },
  {
   "cell_type": "markdown",
   "id": "d3ba238e",
   "metadata": {},
   "source": [
    "## 6c. Add Strikers types column and drop Cluster"
   ]
  },
  {
   "cell_type": "code",
   "execution_count": 51,
   "id": "4b6ce565",
   "metadata": {},
   "outputs": [],
   "source": [
    "df['Strikers types'] = df['Cluster'].map({0: 'Best strikers', 1: 'Regular strikers'})\n",
    "df.drop('Cluster', axis=1, inplace=True)\n"
   ]
  },
  {
   "cell_type": "markdown",
   "id": "793adc39",
   "metadata": {},
   "source": [
    "## 6d. Feature mapping: map Strikers types to binary"
   ]
  },
  {
   "cell_type": "code",
   "execution_count": 52,
   "id": "d8f6309b",
   "metadata": {},
   "outputs": [
    {
     "name": "stdout",
     "output_type": "stream",
     "text": [
      "     Strikers types  Strikers types binary\n",
      "0  Regular strikers                      0\n",
      "1  Regular strikers                      0\n",
      "2     Best strikers                      1\n",
      "3  Regular strikers                      0\n",
      "4     Best strikers                      1\n"
     ]
    }
   ],
   "source": [
    "df['Strikers types binary'] = df['Strikers types'].map({'Best strikers': 1, 'Regular strikers': 0})\n",
    "print(df[['Strikers types', 'Strikers types binary']].head())\n"
   ]
  },
  {
   "cell_type": "markdown",
   "id": "7ebf8dda",
   "metadata": {},
   "source": [
    "# 7. Machine Learning Model"
   ]
  },
  {
   "cell_type": "markdown",
   "id": "c6e17c4f",
   "metadata": {},
   "source": [
    "## 7a. Select X and y\n"
   ]
  },
  {
   "cell_type": "code",
   "execution_count": 55,
   "id": "5ceb50df",
   "metadata": {},
   "outputs": [],
   "source": [
    "from sklearn.model_selection import train_test_split\n",
    "from sklearn.preprocessing import StandardScaler\n",
    "\n",
    "# Features and target\n",
    "# Drop non-numeric columns explicitly if not already encoded\n",
    "X = df.drop(['Striker_ID', 'Strikers types', 'Strikers types binary', 'Nationality', 'Footedness', 'Marital Status'], axis=1)\n",
    "y = df['Strikers types binary']\n",
    "\n"
   ]
  },
  {
   "cell_type": "markdown",
   "id": "fb465fc1",
   "metadata": {},
   "source": [
    "## 7b. Feature scaling and train-test split\n"
   ]
  },
  {
   "cell_type": "code",
   "execution_count": 56,
   "id": "9b5908d8",
   "metadata": {},
   "outputs": [],
   "source": [
    "# Scaling\n",
    "scaler = StandardScaler()\n",
    "X_scaled = scaler.fit_transform(X)\n",
    "\n",
    "# Train-test split (80% train, 20% test)\n",
    "X_train, X_test, y_train, y_test = train_test_split(X_scaled, y, test_size=0.2, random_state=42)\n"
   ]
  },
  {
   "cell_type": "markdown",
   "id": "43fb2a8b",
   "metadata": {},
   "source": [
    "##  7c. Build Logistic Regression Model"
   ]
  },
  {
   "cell_type": "code",
   "execution_count": 57,
   "id": "f01f4c50",
   "metadata": {},
   "outputs": [
    {
     "data": {
      "text/html": [
       "<style>#sk-container-id-1 {\n",
       "  /* Definition of color scheme common for light and dark mode */\n",
       "  --sklearn-color-text: #000;\n",
       "  --sklearn-color-text-muted: #666;\n",
       "  --sklearn-color-line: gray;\n",
       "  /* Definition of color scheme for unfitted estimators */\n",
       "  --sklearn-color-unfitted-level-0: #fff5e6;\n",
       "  --sklearn-color-unfitted-level-1: #f6e4d2;\n",
       "  --sklearn-color-unfitted-level-2: #ffe0b3;\n",
       "  --sklearn-color-unfitted-level-3: chocolate;\n",
       "  /* Definition of color scheme for fitted estimators */\n",
       "  --sklearn-color-fitted-level-0: #f0f8ff;\n",
       "  --sklearn-color-fitted-level-1: #d4ebff;\n",
       "  --sklearn-color-fitted-level-2: #b3dbfd;\n",
       "  --sklearn-color-fitted-level-3: cornflowerblue;\n",
       "\n",
       "  /* Specific color for light theme */\n",
       "  --sklearn-color-text-on-default-background: var(--sg-text-color, var(--theme-code-foreground, var(--jp-content-font-color1, black)));\n",
       "  --sklearn-color-background: var(--sg-background-color, var(--theme-background, var(--jp-layout-color0, white)));\n",
       "  --sklearn-color-border-box: var(--sg-text-color, var(--theme-code-foreground, var(--jp-content-font-color1, black)));\n",
       "  --sklearn-color-icon: #696969;\n",
       "\n",
       "  @media (prefers-color-scheme: dark) {\n",
       "    /* Redefinition of color scheme for dark theme */\n",
       "    --sklearn-color-text-on-default-background: var(--sg-text-color, var(--theme-code-foreground, var(--jp-content-font-color1, white)));\n",
       "    --sklearn-color-background: var(--sg-background-color, var(--theme-background, var(--jp-layout-color0, #111)));\n",
       "    --sklearn-color-border-box: var(--sg-text-color, var(--theme-code-foreground, var(--jp-content-font-color1, white)));\n",
       "    --sklearn-color-icon: #878787;\n",
       "  }\n",
       "}\n",
       "\n",
       "#sk-container-id-1 {\n",
       "  color: var(--sklearn-color-text);\n",
       "}\n",
       "\n",
       "#sk-container-id-1 pre {\n",
       "  padding: 0;\n",
       "}\n",
       "\n",
       "#sk-container-id-1 input.sk-hidden--visually {\n",
       "  border: 0;\n",
       "  clip: rect(1px 1px 1px 1px);\n",
       "  clip: rect(1px, 1px, 1px, 1px);\n",
       "  height: 1px;\n",
       "  margin: -1px;\n",
       "  overflow: hidden;\n",
       "  padding: 0;\n",
       "  position: absolute;\n",
       "  width: 1px;\n",
       "}\n",
       "\n",
       "#sk-container-id-1 div.sk-dashed-wrapped {\n",
       "  border: 1px dashed var(--sklearn-color-line);\n",
       "  margin: 0 0.4em 0.5em 0.4em;\n",
       "  box-sizing: border-box;\n",
       "  padding-bottom: 0.4em;\n",
       "  background-color: var(--sklearn-color-background);\n",
       "}\n",
       "\n",
       "#sk-container-id-1 div.sk-container {\n",
       "  /* jupyter's `normalize.less` sets `[hidden] { display: none; }`\n",
       "     but bootstrap.min.css set `[hidden] { display: none !important; }`\n",
       "     so we also need the `!important` here to be able to override the\n",
       "     default hidden behavior on the sphinx rendered scikit-learn.org.\n",
       "     See: https://github.com/scikit-learn/scikit-learn/issues/21755 */\n",
       "  display: inline-block !important;\n",
       "  position: relative;\n",
       "}\n",
       "\n",
       "#sk-container-id-1 div.sk-text-repr-fallback {\n",
       "  display: none;\n",
       "}\n",
       "\n",
       "div.sk-parallel-item,\n",
       "div.sk-serial,\n",
       "div.sk-item {\n",
       "  /* draw centered vertical line to link estimators */\n",
       "  background-image: linear-gradient(var(--sklearn-color-text-on-default-background), var(--sklearn-color-text-on-default-background));\n",
       "  background-size: 2px 100%;\n",
       "  background-repeat: no-repeat;\n",
       "  background-position: center center;\n",
       "}\n",
       "\n",
       "/* Parallel-specific style estimator block */\n",
       "\n",
       "#sk-container-id-1 div.sk-parallel-item::after {\n",
       "  content: \"\";\n",
       "  width: 100%;\n",
       "  border-bottom: 2px solid var(--sklearn-color-text-on-default-background);\n",
       "  flex-grow: 1;\n",
       "}\n",
       "\n",
       "#sk-container-id-1 div.sk-parallel {\n",
       "  display: flex;\n",
       "  align-items: stretch;\n",
       "  justify-content: center;\n",
       "  background-color: var(--sklearn-color-background);\n",
       "  position: relative;\n",
       "}\n",
       "\n",
       "#sk-container-id-1 div.sk-parallel-item {\n",
       "  display: flex;\n",
       "  flex-direction: column;\n",
       "}\n",
       "\n",
       "#sk-container-id-1 div.sk-parallel-item:first-child::after {\n",
       "  align-self: flex-end;\n",
       "  width: 50%;\n",
       "}\n",
       "\n",
       "#sk-container-id-1 div.sk-parallel-item:last-child::after {\n",
       "  align-self: flex-start;\n",
       "  width: 50%;\n",
       "}\n",
       "\n",
       "#sk-container-id-1 div.sk-parallel-item:only-child::after {\n",
       "  width: 0;\n",
       "}\n",
       "\n",
       "/* Serial-specific style estimator block */\n",
       "\n",
       "#sk-container-id-1 div.sk-serial {\n",
       "  display: flex;\n",
       "  flex-direction: column;\n",
       "  align-items: center;\n",
       "  background-color: var(--sklearn-color-background);\n",
       "  padding-right: 1em;\n",
       "  padding-left: 1em;\n",
       "}\n",
       "\n",
       "\n",
       "/* Toggleable style: style used for estimator/Pipeline/ColumnTransformer box that is\n",
       "clickable and can be expanded/collapsed.\n",
       "- Pipeline and ColumnTransformer use this feature and define the default style\n",
       "- Estimators will overwrite some part of the style using the `sk-estimator` class\n",
       "*/\n",
       "\n",
       "/* Pipeline and ColumnTransformer style (default) */\n",
       "\n",
       "#sk-container-id-1 div.sk-toggleable {\n",
       "  /* Default theme specific background. It is overwritten whether we have a\n",
       "  specific estimator or a Pipeline/ColumnTransformer */\n",
       "  background-color: var(--sklearn-color-background);\n",
       "}\n",
       "\n",
       "/* Toggleable label */\n",
       "#sk-container-id-1 label.sk-toggleable__label {\n",
       "  cursor: pointer;\n",
       "  display: flex;\n",
       "  width: 100%;\n",
       "  margin-bottom: 0;\n",
       "  padding: 0.5em;\n",
       "  box-sizing: border-box;\n",
       "  text-align: center;\n",
       "  align-items: start;\n",
       "  justify-content: space-between;\n",
       "  gap: 0.5em;\n",
       "}\n",
       "\n",
       "#sk-container-id-1 label.sk-toggleable__label .caption {\n",
       "  font-size: 0.6rem;\n",
       "  font-weight: lighter;\n",
       "  color: var(--sklearn-color-text-muted);\n",
       "}\n",
       "\n",
       "#sk-container-id-1 label.sk-toggleable__label-arrow:before {\n",
       "  /* Arrow on the left of the label */\n",
       "  content: \"▸\";\n",
       "  float: left;\n",
       "  margin-right: 0.25em;\n",
       "  color: var(--sklearn-color-icon);\n",
       "}\n",
       "\n",
       "#sk-container-id-1 label.sk-toggleable__label-arrow:hover:before {\n",
       "  color: var(--sklearn-color-text);\n",
       "}\n",
       "\n",
       "/* Toggleable content - dropdown */\n",
       "\n",
       "#sk-container-id-1 div.sk-toggleable__content {\n",
       "  max-height: 0;\n",
       "  max-width: 0;\n",
       "  overflow: hidden;\n",
       "  text-align: left;\n",
       "  /* unfitted */\n",
       "  background-color: var(--sklearn-color-unfitted-level-0);\n",
       "}\n",
       "\n",
       "#sk-container-id-1 div.sk-toggleable__content.fitted {\n",
       "  /* fitted */\n",
       "  background-color: var(--sklearn-color-fitted-level-0);\n",
       "}\n",
       "\n",
       "#sk-container-id-1 div.sk-toggleable__content pre {\n",
       "  margin: 0.2em;\n",
       "  border-radius: 0.25em;\n",
       "  color: var(--sklearn-color-text);\n",
       "  /* unfitted */\n",
       "  background-color: var(--sklearn-color-unfitted-level-0);\n",
       "}\n",
       "\n",
       "#sk-container-id-1 div.sk-toggleable__content.fitted pre {\n",
       "  /* unfitted */\n",
       "  background-color: var(--sklearn-color-fitted-level-0);\n",
       "}\n",
       "\n",
       "#sk-container-id-1 input.sk-toggleable__control:checked~div.sk-toggleable__content {\n",
       "  /* Expand drop-down */\n",
       "  max-height: 200px;\n",
       "  max-width: 100%;\n",
       "  overflow: auto;\n",
       "}\n",
       "\n",
       "#sk-container-id-1 input.sk-toggleable__control:checked~label.sk-toggleable__label-arrow:before {\n",
       "  content: \"▾\";\n",
       "}\n",
       "\n",
       "/* Pipeline/ColumnTransformer-specific style */\n",
       "\n",
       "#sk-container-id-1 div.sk-label input.sk-toggleable__control:checked~label.sk-toggleable__label {\n",
       "  color: var(--sklearn-color-text);\n",
       "  background-color: var(--sklearn-color-unfitted-level-2);\n",
       "}\n",
       "\n",
       "#sk-container-id-1 div.sk-label.fitted input.sk-toggleable__control:checked~label.sk-toggleable__label {\n",
       "  background-color: var(--sklearn-color-fitted-level-2);\n",
       "}\n",
       "\n",
       "/* Estimator-specific style */\n",
       "\n",
       "/* Colorize estimator box */\n",
       "#sk-container-id-1 div.sk-estimator input.sk-toggleable__control:checked~label.sk-toggleable__label {\n",
       "  /* unfitted */\n",
       "  background-color: var(--sklearn-color-unfitted-level-2);\n",
       "}\n",
       "\n",
       "#sk-container-id-1 div.sk-estimator.fitted input.sk-toggleable__control:checked~label.sk-toggleable__label {\n",
       "  /* fitted */\n",
       "  background-color: var(--sklearn-color-fitted-level-2);\n",
       "}\n",
       "\n",
       "#sk-container-id-1 div.sk-label label.sk-toggleable__label,\n",
       "#sk-container-id-1 div.sk-label label {\n",
       "  /* The background is the default theme color */\n",
       "  color: var(--sklearn-color-text-on-default-background);\n",
       "}\n",
       "\n",
       "/* On hover, darken the color of the background */\n",
       "#sk-container-id-1 div.sk-label:hover label.sk-toggleable__label {\n",
       "  color: var(--sklearn-color-text);\n",
       "  background-color: var(--sklearn-color-unfitted-level-2);\n",
       "}\n",
       "\n",
       "/* Label box, darken color on hover, fitted */\n",
       "#sk-container-id-1 div.sk-label.fitted:hover label.sk-toggleable__label.fitted {\n",
       "  color: var(--sklearn-color-text);\n",
       "  background-color: var(--sklearn-color-fitted-level-2);\n",
       "}\n",
       "\n",
       "/* Estimator label */\n",
       "\n",
       "#sk-container-id-1 div.sk-label label {\n",
       "  font-family: monospace;\n",
       "  font-weight: bold;\n",
       "  display: inline-block;\n",
       "  line-height: 1.2em;\n",
       "}\n",
       "\n",
       "#sk-container-id-1 div.sk-label-container {\n",
       "  text-align: center;\n",
       "}\n",
       "\n",
       "/* Estimator-specific */\n",
       "#sk-container-id-1 div.sk-estimator {\n",
       "  font-family: monospace;\n",
       "  border: 1px dotted var(--sklearn-color-border-box);\n",
       "  border-radius: 0.25em;\n",
       "  box-sizing: border-box;\n",
       "  margin-bottom: 0.5em;\n",
       "  /* unfitted */\n",
       "  background-color: var(--sklearn-color-unfitted-level-0);\n",
       "}\n",
       "\n",
       "#sk-container-id-1 div.sk-estimator.fitted {\n",
       "  /* fitted */\n",
       "  background-color: var(--sklearn-color-fitted-level-0);\n",
       "}\n",
       "\n",
       "/* on hover */\n",
       "#sk-container-id-1 div.sk-estimator:hover {\n",
       "  /* unfitted */\n",
       "  background-color: var(--sklearn-color-unfitted-level-2);\n",
       "}\n",
       "\n",
       "#sk-container-id-1 div.sk-estimator.fitted:hover {\n",
       "  /* fitted */\n",
       "  background-color: var(--sklearn-color-fitted-level-2);\n",
       "}\n",
       "\n",
       "/* Specification for estimator info (e.g. \"i\" and \"?\") */\n",
       "\n",
       "/* Common style for \"i\" and \"?\" */\n",
       "\n",
       ".sk-estimator-doc-link,\n",
       "a:link.sk-estimator-doc-link,\n",
       "a:visited.sk-estimator-doc-link {\n",
       "  float: right;\n",
       "  font-size: smaller;\n",
       "  line-height: 1em;\n",
       "  font-family: monospace;\n",
       "  background-color: var(--sklearn-color-background);\n",
       "  border-radius: 1em;\n",
       "  height: 1em;\n",
       "  width: 1em;\n",
       "  text-decoration: none !important;\n",
       "  margin-left: 0.5em;\n",
       "  text-align: center;\n",
       "  /* unfitted */\n",
       "  border: var(--sklearn-color-unfitted-level-1) 1pt solid;\n",
       "  color: var(--sklearn-color-unfitted-level-1);\n",
       "}\n",
       "\n",
       ".sk-estimator-doc-link.fitted,\n",
       "a:link.sk-estimator-doc-link.fitted,\n",
       "a:visited.sk-estimator-doc-link.fitted {\n",
       "  /* fitted */\n",
       "  border: var(--sklearn-color-fitted-level-1) 1pt solid;\n",
       "  color: var(--sklearn-color-fitted-level-1);\n",
       "}\n",
       "\n",
       "/* On hover */\n",
       "div.sk-estimator:hover .sk-estimator-doc-link:hover,\n",
       ".sk-estimator-doc-link:hover,\n",
       "div.sk-label-container:hover .sk-estimator-doc-link:hover,\n",
       ".sk-estimator-doc-link:hover {\n",
       "  /* unfitted */\n",
       "  background-color: var(--sklearn-color-unfitted-level-3);\n",
       "  color: var(--sklearn-color-background);\n",
       "  text-decoration: none;\n",
       "}\n",
       "\n",
       "div.sk-estimator.fitted:hover .sk-estimator-doc-link.fitted:hover,\n",
       ".sk-estimator-doc-link.fitted:hover,\n",
       "div.sk-label-container:hover .sk-estimator-doc-link.fitted:hover,\n",
       ".sk-estimator-doc-link.fitted:hover {\n",
       "  /* fitted */\n",
       "  background-color: var(--sklearn-color-fitted-level-3);\n",
       "  color: var(--sklearn-color-background);\n",
       "  text-decoration: none;\n",
       "}\n",
       "\n",
       "/* Span, style for the box shown on hovering the info icon */\n",
       ".sk-estimator-doc-link span {\n",
       "  display: none;\n",
       "  z-index: 9999;\n",
       "  position: relative;\n",
       "  font-weight: normal;\n",
       "  right: .2ex;\n",
       "  padding: .5ex;\n",
       "  margin: .5ex;\n",
       "  width: min-content;\n",
       "  min-width: 20ex;\n",
       "  max-width: 50ex;\n",
       "  color: var(--sklearn-color-text);\n",
       "  box-shadow: 2pt 2pt 4pt #999;\n",
       "  /* unfitted */\n",
       "  background: var(--sklearn-color-unfitted-level-0);\n",
       "  border: .5pt solid var(--sklearn-color-unfitted-level-3);\n",
       "}\n",
       "\n",
       ".sk-estimator-doc-link.fitted span {\n",
       "  /* fitted */\n",
       "  background: var(--sklearn-color-fitted-level-0);\n",
       "  border: var(--sklearn-color-fitted-level-3);\n",
       "}\n",
       "\n",
       ".sk-estimator-doc-link:hover span {\n",
       "  display: block;\n",
       "}\n",
       "\n",
       "/* \"?\"-specific style due to the `<a>` HTML tag */\n",
       "\n",
       "#sk-container-id-1 a.estimator_doc_link {\n",
       "  float: right;\n",
       "  font-size: 1rem;\n",
       "  line-height: 1em;\n",
       "  font-family: monospace;\n",
       "  background-color: var(--sklearn-color-background);\n",
       "  border-radius: 1rem;\n",
       "  height: 1rem;\n",
       "  width: 1rem;\n",
       "  text-decoration: none;\n",
       "  /* unfitted */\n",
       "  color: var(--sklearn-color-unfitted-level-1);\n",
       "  border: var(--sklearn-color-unfitted-level-1) 1pt solid;\n",
       "}\n",
       "\n",
       "#sk-container-id-1 a.estimator_doc_link.fitted {\n",
       "  /* fitted */\n",
       "  border: var(--sklearn-color-fitted-level-1) 1pt solid;\n",
       "  color: var(--sklearn-color-fitted-level-1);\n",
       "}\n",
       "\n",
       "/* On hover */\n",
       "#sk-container-id-1 a.estimator_doc_link:hover {\n",
       "  /* unfitted */\n",
       "  background-color: var(--sklearn-color-unfitted-level-3);\n",
       "  color: var(--sklearn-color-background);\n",
       "  text-decoration: none;\n",
       "}\n",
       "\n",
       "#sk-container-id-1 a.estimator_doc_link.fitted:hover {\n",
       "  /* fitted */\n",
       "  background-color: var(--sklearn-color-fitted-level-3);\n",
       "}\n",
       "</style><div id=\"sk-container-id-1\" class=\"sk-top-container\"><div class=\"sk-text-repr-fallback\"><pre>LogisticRegression()</pre><b>In a Jupyter environment, please rerun this cell to show the HTML representation or trust the notebook. <br />On GitHub, the HTML representation is unable to render, please try loading this page with nbviewer.org.</b></div><div class=\"sk-container\" hidden><div class=\"sk-item\"><div class=\"sk-estimator fitted sk-toggleable\"><input class=\"sk-toggleable__control sk-hidden--visually\" id=\"sk-estimator-id-1\" type=\"checkbox\" checked><label for=\"sk-estimator-id-1\" class=\"sk-toggleable__label fitted sk-toggleable__label-arrow\"><div><div>LogisticRegression</div></div><div><a class=\"sk-estimator-doc-link fitted\" rel=\"noreferrer\" target=\"_blank\" href=\"https://scikit-learn.org/1.6/modules/generated/sklearn.linear_model.LogisticRegression.html\">?<span>Documentation for LogisticRegression</span></a><span class=\"sk-estimator-doc-link fitted\">i<span>Fitted</span></span></div></label><div class=\"sk-toggleable__content fitted\"><pre>LogisticRegression()</pre></div> </div></div></div></div>"
      ],
      "text/plain": [
       "LogisticRegression()"
      ]
     },
     "execution_count": 57,
     "metadata": {},
     "output_type": "execute_result"
    }
   ],
   "source": [
    "from sklearn.linear_model import LogisticRegression\n",
    "\n",
    "model = LogisticRegression()\n",
    "model.fit(X_train, y_train)\n"
   ]
  },
  {
   "cell_type": "markdown",
   "id": "69f42473",
   "metadata": {},
   "source": [
    "## 7d. Make predictions and calculate accuracy"
   ]
  },
  {
   "cell_type": "code",
   "execution_count": 58,
   "id": "b2c1cd3d",
   "metadata": {},
   "outputs": [
    {
     "name": "stdout",
     "output_type": "stream",
     "text": [
      "Accuracy: 97.00%\n"
     ]
    }
   ],
   "source": [
    "from sklearn.metrics import accuracy_score\n",
    "\n",
    "y_pred = model.predict(X_test)\n",
    "accuracy = accuracy_score(y_test, y_pred) * 100\n",
    "print(f\"Accuracy: {accuracy:.2f}%\")\n"
   ]
  },
  {
   "cell_type": "markdown",
   "id": "81da3ee9",
   "metadata": {},
   "source": [
    "## 7e. Create and visualize confusion matrix"
   ]
  },
  {
   "cell_type": "code",
   "execution_count": 59,
   "id": "f5d2a26f",
   "metadata": {},
   "outputs": [
    {
     "data": {
      "image/png": "[encoded data removed]",
      "text/plain": [
       "<Figure size 640x480 with 2 Axes>"
      ]
     },
     "metadata": {},
     "output_type": "display_data"
    }
   ],
   "source": [
    "from sklearn.metrics import confusion_matrix, ConfusionMatrixDisplay\n",
    "import matplotlib.pyplot as plt\n",
    "\n",
    "# Confusion Matrix\n",
    "cm = confusion_matrix(y_test, y_pred)\n",
    "disp = ConfusionMatrixDisplay(confusion_matrix=cm, display_labels=model.classes_)\n",
    "disp.plot(cmap='Blues')\n",
    "plt.title(\"Confusion Matrix\")\n",
    "plt.show()\n"
   ]
  }
 ],
 "metadata": {
  "kernelspec": {
   "display_name": "Python 3",
   "language": "python",
   "name": "python3"
  },
  "language_info": {
   "codemirror_mode": {
    "name": "ipython",
    "version": 3
   },
   "file_extension": ".py",
   "mimetype": "text/x-python",
   "name": "python",
   "nbconvert_exporter": "python",
   "pygments_lexer": "ipython3",
   "version": "3.12.1"
  }
 },
 "nbformat": 4,
 "nbformat_minor": 5
}
